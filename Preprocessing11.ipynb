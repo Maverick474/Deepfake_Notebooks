{
  "nbformat": 4,
  "nbformat_minor": 0,
  "metadata": {
    "colab": {
      "provenance": [],
      "gpuType": "T4"
    },
    "kernelspec": {
      "name": "python3",
      "display_name": "Python 3"
    },
    "language_info": {
      "name": "python"
    },
    "accelerator": "GPU"
  },
  "cells": [
    {
      "cell_type": "markdown",
      "source": [
        "# **Data Preprocessing**\n",
        "\n",
        "This notebook covers the **data preprocessing steps** required to clean and prepare the dataset for further analysis and model training."
      ],
      "metadata": {
        "id": "N4QJu3bw7hwg"
      }
    },
    {
      "cell_type": "markdown",
      "source": [
        "# 1.**Importing Necessary Libraries**\n",
        "\n",
        "This section includes all required libraries for data handling, video processing, face detection, and storage."
      ],
      "metadata": {
        "id": "q998cL5k8D0_"
      }
    },
    {
      "cell_type": "code",
      "source": [
        "!pip install face_recognition\n",
        "import zipfile\n",
        "import glob\n",
        "import numpy as np\n",
        "import cv2\n",
        "import os\n",
        "import face_recognition\n",
        "from tqdm import tqdm\n"
      ],
      "metadata": {
        "colab": {
          "base_uri": "https://localhost:8080/"
        },
        "id": "IBRVZSW_8DJC",
        "outputId": "047c3060-3fef-4cc8-e76e-fc2a5bf33852"
      },
      "execution_count": 1,
      "outputs": [
        {
          "output_type": "stream",
          "name": "stdout",
          "text": [
            "Collecting face_recognition\n",
            "  Downloading face_recognition-1.3.0-py2.py3-none-any.whl.metadata (21 kB)\n",
            "Collecting face-recognition-models>=0.3.0 (from face_recognition)\n",
            "  Downloading face_recognition_models-0.3.0.tar.gz (100.1 MB)\n",
            "\u001b[2K     \u001b[90m━━━━━━━━━━━━━━━━━━━━━━━━━━━━━━━━━━━━━━━━\u001b[0m \u001b[32m100.1/100.1 MB\u001b[0m \u001b[31m7.2 MB/s\u001b[0m eta \u001b[36m0:00:00\u001b[0m\n",
            "\u001b[?25h  Preparing metadata (setup.py) ... \u001b[?25l\u001b[?25hdone\n",
            "Requirement already satisfied: Click>=6.0 in /usr/local/lib/python3.11/dist-packages (from face_recognition) (8.1.8)\n",
            "Requirement already satisfied: dlib>=19.7 in /usr/local/lib/python3.11/dist-packages (from face_recognition) (19.24.2)\n",
            "Requirement already satisfied: numpy in /usr/local/lib/python3.11/dist-packages (from face_recognition) (1.26.4)\n",
            "Requirement already satisfied: Pillow in /usr/local/lib/python3.11/dist-packages (from face_recognition) (11.1.0)\n",
            "Downloading face_recognition-1.3.0-py2.py3-none-any.whl (15 kB)\n",
            "Building wheels for collected packages: face-recognition-models\n",
            "  Building wheel for face-recognition-models (setup.py) ... \u001b[?25l\u001b[?25hdone\n",
            "  Created wheel for face-recognition-models: filename=face_recognition_models-0.3.0-py2.py3-none-any.whl size=100566162 sha256=de4a0a046d0de8c76a707365c2e3f03cd4fff57376a4da6985252ff87be82b53\n",
            "  Stored in directory: /root/.cache/pip/wheels/04/52/ec/9355da79c29f160b038a20c784db2803c2f9fa2c8a462c176a\n",
            "Successfully built face-recognition-models\n",
            "Installing collected packages: face-recognition-models, face_recognition\n",
            "Successfully installed face-recognition-models-0.3.0 face_recognition-1.3.0\n"
          ]
        }
      ]
    },
    {
      "cell_type": "markdown",
      "source": [],
      "metadata": {
        "id": "jYSwfJOb8TU5"
      }
    },
    {
      "cell_type": "markdown",
      "source": [
        "# **2. Mounting Google Drive**\n",
        "\n",
        "Since the dataset is stored in Google Drive, this section ensures access to the files."
      ],
      "metadata": {
        "id": "e-tT5UVR8Upx"
      }
    },
    {
      "cell_type": "code",
      "source": [
        "from google.colab import drive\n",
        "drive.mount('/content/drive')\n"
      ],
      "metadata": {
        "colab": {
          "base_uri": "https://localhost:8080/"
        },
        "id": "Jv1-OBQN7neX",
        "outputId": "7597a1a6-586f-4565-c7ca-55b17416d0f1"
      },
      "execution_count": 2,
      "outputs": [
        {
          "output_type": "stream",
          "name": "stdout",
          "text": [
            "Mounted at /content/drive\n"
          ]
        }
      ]
    },
    {
      "cell_type": "markdown",
      "source": [
        "# **3. Loading the Dataset**\n",
        "\n",
        "The dataset (zip file) is extracted from Google Drive to a local directory for further processing."
      ],
      "metadata": {
        "id": "9G34SqSc8ogl"
      }
    },
    {
      "cell_type": "code",
      "source": [
        "# Path to your zip file in Google Drive\n",
        "zip_path = \"/content/drive/MyDrive/Dataset.zip\"\n",
        "\n",
        "# Destination folder to extract the contents\n",
        "extract_path = '/content/Dataset'\n",
        "\n",
        "# Unzipping the file\n",
        "import zipfile\n",
        "with zipfile.ZipFile(zip_path, 'r') as zip_ref:\n",
        "    zip_ref.extractall(extract_path)\n",
        "\n",
        "print(\"Unzipping completed. Files are extracted to:\", extract_path)\n"
      ],
      "metadata": {
        "colab": {
          "base_uri": "https://localhost:8080/"
        },
        "id": "8HCPcyWw8a7Y",
        "outputId": "64e77e06-b23c-42fd-8a7c-f5e287cfac7a"
      },
      "execution_count": 9,
      "outputs": [
        {
          "output_type": "stream",
          "name": "stdout",
          "text": [
            "Unzipping completed. Files are extracted to: /content/Dataset\n"
          ]
        }
      ]
    },
    {
      "cell_type": "markdown",
      "source": [
        "# **4. Checking for Video Files**\n",
        "\n",
        "We check for .mp4 video files in the extracted dataset directory."
      ],
      "metadata": {
        "id": "HjiUrIlA8qA5"
      }
    },
    {
      "cell_type": "code",
      "source": [
        "video_files = glob.glob('/content/Dataset/Dataset/Realvideos/*.mp4')\n",
        "\n",
        "print(\"\\nNumber of .mp4 files found:\", len(video_files))\n",
        "\n",
        "# If no files are found, try recursive search\n",
        "if len(video_files) == 0:\n",
        "    print(\"No .mp4 files found! Checking subdirectories...\")\n",
        "    video_files = glob.glob('/content/Dataset/Dataset/Realvideos/**/*.mp4', recursive=True)\n",
        "    print(\"Number of .mp4 files found (recursive search):\", len(video_files))\n"
      ],
      "metadata": {
        "colab": {
          "base_uri": "https://localhost:8080/"
        },
        "id": "mEFPQiJo8nzF",
        "outputId": "bdc1a414-7e88-4cf7-9257-6258c59ef52e"
      },
      "execution_count": 10,
      "outputs": [
        {
          "output_type": "stream",
          "name": "stdout",
          "text": [
            "\n",
            "Number of .mp4 files found: 11\n"
          ]
        }
      ]
    },
    {
      "cell_type": "markdown",
      "source": [
        "# **5. Filtering Videos with Sufficient Frames**\n",
        "\n",
        "Videos with less than 150 frames are removed."
      ],
      "metadata": {
        "id": "PnUel-9e84k8"
      }
    },
    {
      "cell_type": "code",
      "source": [
        "frame_count = []\n",
        "for video_file in video_files.copy():  # Use copy to avoid modifying the list while iterating\n",
        "    cap = cv2.VideoCapture(video_file)\n",
        "    if int(cap.get(cv2.CAP_PROP_FRAME_COUNT)) < 150:\n",
        "        video_files.remove(video_file)\n",
        "        continue\n",
        "    frame_count.append(int(cap.get(cv2.CAP_PROP_FRAME_COUNT)))\n",
        "\n",
        "print(\"\\nFiltered frames count:\", frame_count)\n",
        "print(\"Total number of videos after filtering:\", len(frame_count))\n",
        "\n",
        "# Fix NaN issue when no frames exist\n",
        "print(\"Average frame per video:\", np.mean(frame_count) if frame_count else 0)\n"
      ],
      "metadata": {
        "colab": {
          "base_uri": "https://localhost:8080/"
        },
        "id": "whLxOvLP84HL",
        "outputId": "b64cd9a7-12b6-4d91-9468-da4c080a459e"
      },
      "execution_count": 11,
      "outputs": [
        {
          "output_type": "stream",
          "name": "stdout",
          "text": [
            "\n",
            "Filtered frames count: [693, 505, 309, 396, 460, 310, 637, 303, 474, 385, 588]\n",
            "Total number of videos after filtering: 11\n",
            "Average frame per video: 460.0\n"
          ]
        }
      ]
    },
    {
      "cell_type": "markdown",
      "source": [
        "# **6. Creating Output Directory for Processed Data**\n",
        "\n",
        "A directory is created in Google Drive to store processed video outputs."
      ],
      "metadata": {
        "id": "fRzRZt_A-bDK"
      }
    },
    {
      "cell_type": "code",
      "source": [
        "output_dir = '/content/drive/My Drive/FF_REAL_Face_only_data/'\n",
        "os.makedirs(output_dir, exist_ok=True)\n"
      ],
      "metadata": {
        "id": "2Vmq6xxP89tv"
      },
      "execution_count": 12,
      "outputs": []
    },
    {
      "cell_type": "markdown",
      "source": [
        "**# 7. Defining Functions for Face Extraction**\n",
        "We define functions to:\n",
        "\n",
        "  Extract frames from videos\n",
        "  Detect faces and save cropped face-only frames"
      ],
      "metadata": {
        "id": "cN9QmkVx-jYK"
      }
    },
    {
      "cell_type": "code",
      "source": [
        "# Function to extract frames from video\n",
        "def frame_extract(path):\n",
        "    vidObj = cv2.VideoCapture(path)\n",
        "    success = True\n",
        "    while success:\n",
        "        success, image = vidObj.read()\n",
        "        if success:\n",
        "            yield image\n",
        "\n",
        "# Function to create face-only videos\n",
        "def create_face_videos(path_list, out_dir):\n",
        "    already_present_count = glob.glob(os.path.join(out_dir, '*.mp4'))\n",
        "    print(\"\\nNumber of videos already present:\", len(already_present_count))\n",
        "    for path in tqdm(path_list, desc=\"Processing videos\"):\n",
        "        out_path = os.path.join(out_dir, os.path.basename(path))\n",
        "        if os.path.exists(out_path):\n",
        "            print(f\"File already exists: {out_path}\")\n",
        "            continue\n",
        "        out = cv2.VideoWriter(out_path, cv2.VideoWriter_fourcc('M','J','P','G'), 30, (112, 112))\n",
        "        frames = []\n",
        "        for idx, frame in enumerate(frame_extract(path)):\n",
        "            if idx <= 150:\n",
        "                frames.append(frame)\n",
        "                if len(frames) == 4:\n",
        "                    faces = face_recognition.batch_face_locations(frames)\n",
        "                    for i, face in enumerate(faces):\n",
        "                        if face:\n",
        "                            top, right, bottom, left = face[0]\n",
        "                            try:\n",
        "                                cropped_face = cv2.resize(frames[i][top:bottom, left:right], (112, 112))\n",
        "                                out.write(cropped_face)\n",
        "                            except Exception as e:\n",
        "                                print(f\"Error processing frame {idx} in {path}: {e}\")\n",
        "                    frames = []\n",
        "        out.release()\n"
      ],
      "metadata": {
        "id": "kG1seLlX-rtV"
      },
      "execution_count": 13,
      "outputs": []
    },
    {
      "cell_type": "markdown",
      "source": [
        "# **8. Running the Face Video Creation Process**\n",
        "We now process the videos and extract face-only clips."
      ],
      "metadata": {
        "id": "k5bi8I0q-0uD"
      }
    },
    {
      "cell_type": "code",
      "source": [
        "# Run the face video creation if there are videos to process\n",
        "if video_files:\n",
        "    create_face_videos(video_files, output_dir)\n",
        "    print(\"\\nFace video creation completed.\")\n",
        "else:\n",
        "    print(\"\\nNo videos to process.\")\n"
      ],
      "metadata": {
        "colab": {
          "base_uri": "https://localhost:8080/"
        },
        "id": "NuR-xD62-yae",
        "outputId": "eec3662f-5ded-4430-f267-94910114d93d"
      },
      "execution_count": 14,
      "outputs": [
        {
          "output_type": "stream",
          "name": "stdout",
          "text": [
            "\n",
            "Number of videos already present: 11\n"
          ]
        },
        {
          "output_type": "stream",
          "name": "stderr",
          "text": [
            "Processing videos: 100%|██████████| 11/11 [00:00<00:00, 2792.14it/s]"
          ]
        },
        {
          "output_type": "stream",
          "name": "stdout",
          "text": [
            "File already exists: /content/drive/My Drive/FF_REAL_Face_only_data/002.mp4\n",
            "File already exists: /content/drive/My Drive/FF_REAL_Face_only_data/007.mp4\n",
            "File already exists: /content/drive/My Drive/FF_REAL_Face_only_data/004.mp4\n",
            "File already exists: /content/drive/My Drive/FF_REAL_Face_only_data/000.mp4\n",
            "File already exists: /content/drive/My Drive/FF_REAL_Face_only_data/001.mp4\n",
            "File already exists: /content/drive/My Drive/FF_REAL_Face_only_data/006.mp4\n",
            "File already exists: /content/drive/My Drive/FF_REAL_Face_only_data/008.mp4\n",
            "File already exists: /content/drive/My Drive/FF_REAL_Face_only_data/003.mp4\n",
            "File already exists: /content/drive/My Drive/FF_REAL_Face_only_data/010.mp4\n",
            "File already exists: /content/drive/My Drive/FF_REAL_Face_only_data/005.mp4\n",
            "File already exists: /content/drive/My Drive/FF_REAL_Face_only_data/009.mp4\n",
            "\n",
            "Face video creation completed.\n"
          ]
        },
        {
          "output_type": "stream",
          "name": "stderr",
          "text": [
            "\n"
          ]
        }
      ]
    },
    {
      "cell_type": "markdown",
      "source": [
        "# **9. Final Execution of Face Extraction Pipeline**\n",
        "\n",
        "We call the function on all valid videos."
      ],
      "metadata": {
        "id": "4gBJv_fz--3j"
      }
    },
    {
      "cell_type": "code",
      "source": [
        "create_face_videos(video_files, output_dir)\n"
      ],
      "metadata": {
        "colab": {
          "base_uri": "https://localhost:8080/"
        },
        "id": "pXeWbM-z-6qu",
        "outputId": "1dd37102-a071-46b4-8fdd-9e5990e953c0"
      },
      "execution_count": 15,
      "outputs": [
        {
          "output_type": "stream",
          "name": "stdout",
          "text": [
            "\n",
            "Number of videos already present: 11\n"
          ]
        },
        {
          "output_type": "stream",
          "name": "stderr",
          "text": [
            "Processing videos: 100%|██████████| 11/11 [00:00<00:00, 4610.97it/s]"
          ]
        },
        {
          "output_type": "stream",
          "name": "stdout",
          "text": [
            "File already exists: /content/drive/My Drive/FF_REAL_Face_only_data/002.mp4\n",
            "File already exists: /content/drive/My Drive/FF_REAL_Face_only_data/007.mp4\n",
            "File already exists: /content/drive/My Drive/FF_REAL_Face_only_data/004.mp4\n",
            "File already exists: /content/drive/My Drive/FF_REAL_Face_only_data/000.mp4\n",
            "File already exists: /content/drive/My Drive/FF_REAL_Face_only_data/001.mp4\n",
            "File already exists: /content/drive/My Drive/FF_REAL_Face_only_data/006.mp4\n",
            "File already exists: /content/drive/My Drive/FF_REAL_Face_only_data/008.mp4\n",
            "File already exists: /content/drive/My Drive/FF_REAL_Face_only_data/003.mp4\n",
            "File already exists: /content/drive/My Drive/FF_REAL_Face_only_data/010.mp4\n",
            "File already exists: /content/drive/My Drive/FF_REAL_Face_only_data/005.mp4\n",
            "File already exists: /content/drive/My Drive/FF_REAL_Face_only_data/009.mp4\n"
          ]
        },
        {
          "output_type": "stream",
          "name": "stderr",
          "text": [
            "\n"
          ]
        }
      ]
    }
  ]
}